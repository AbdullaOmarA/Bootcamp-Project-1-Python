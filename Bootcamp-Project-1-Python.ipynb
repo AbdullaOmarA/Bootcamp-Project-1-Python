{
 "cells": [
  {
   "cell_type": "markdown",
   "id": "f43b8310",
   "metadata": {},
   "source": [
    "# Career Development System Recommendation"
   ]
  },
  {
   "cell_type": "code",
   "execution_count": 23,
   "id": "d35cdf66",
   "metadata": {},
   "outputs": [],
   "source": [
    "careers = {\n",
    "    \"Software Engineer\": [\"Python\", \"Java\", \"C++\", \"Database\", \"Algorithms\", \"Git\", \"DevOps\"],\n",
    "    \"Data Scientist\": [\"Python\", \"R\", \"Machine Learning\", \"Statistics\", \"Data Visualization\"],\n",
    "    \"Web Developer\": [\"HTML\", \"CSS\", \"JavaScript\", \"Web Frameworks\", \"Responsive Design\"],\n",
    "    \"Product Manager\": [\"Product Development\", \"Market Analysis\", \"Project Management\", \"Agile\"],\n",
    "    \"UX Designer\": [\"UX Design\", \"Prototyping\", \"Wireframing\", \"Usability Testing\", \"Adobe XD\"],\n",
    "    \"Marketing Manager\": [\"Marketing Strategy\", \"Social Media\", \"SEO\", \"Content Creation\"],\n",
    "    \"Business Analyst\": [\"Business Analysis\", \"Data Analysis\", \"Problem Solving\", \"SQL\"],\n",
    "    \"Project Manager\": [\"Project Management\", \"Team Leadership\", \"Budgeting\", \"Risk Management\"],\n",
    "    \"Accountant\": [\"Accounting Principles\", \"Taxation\", \"Financial Reporting\", \"Auditing\"]\n",
    "}\n",
    "    \n",
    "\n",
    "academic_majors = {\n",
    "    \"Software Engineer\": \"Computer Science, Software Engineering, or related field\",\n",
    "    \"Data Scientist\": \"Data Science, Statistics, Computer Science, or related field\",\n",
    "    \"Web Developer\": \"Web Development, Computer Science, or related field\",\n",
    "    \"Product Manager\": \"Business Administration, Marketing, or related field\",\n",
    "    \"UX Designer\": \"User Experience Design, Interaction Design, or related field\",\n",
    "    \"Marketing Manager\": \"Marketing, Business Administration, or related field\",\n",
    "    \"Business Analyst\": \"Business Administration, Finance, Economics, or related field\",\n",
    "    \"Project Manager\": \"Project Management, Business Administration, or related field\",\n",
    "    \"Accountant\": \"Accounting, Finance, or related field\",\n",
    "}\n",
    "specialized_certificates = {\n",
    "    \"Software Engineer\": [\"Software Development Professional Certificate\", \"Python Developer Certificate\"],\n",
    "    \"Data Scientist\": [\"Data Science Professional Certificate\", \"Machine Learning Specialist Certificate\"],\n",
    "    \"Web Developer\": [\"Web Development Professional Certificate\", \"JavaScript Developer Certificate\"],\n",
    "   \n",
    "}\n",
    "\n",
    "skills_list = [\n",
    "    \"Python\",\n",
    "    \"SQL\",\n",
    "    \"HTML\",\n",
    "    \"CSS\",\n",
    "    \"JavaScript\",\n",
    "    \"UX Design\",\n",
    "    \"Marketing\",\n",
    "    \"Business Analysis\",\n",
    "    \"Project Management\",\n",
    "    \"Accounting\",\n",
    "    \"Machine Learning\",\n",
    "    \"Git\",\n",
    "    \"DevOps\",\n",
    "    \"Data Visualization\",\n",
    "    \"Responsive Design\",\n",
    "    \"Agile\",\n",
    "    \"Adobe XD\",\n",
    "    \"Content Creation\",\n",
    "    \"Risk Management\",\n",
    "    \"Auditing\",\n",
    "    \"Data Analysis\"\n",
    "]"
   ]
  },
  {
   "cell_type": "code",
   "execution_count": 18,
   "id": "d9e63ef3",
   "metadata": {},
   "outputs": [],
   "source": [
    "def Education_level():\n",
    "    print(\"Education Levels:\")\n",
    "    print(\"1. Diploma \")\n",
    "    print(\"2. Undergraduate\")\n",
    "    print(\"3. Bachelor\")\n",
    "    choice = input(\"Enter the number corresponding to your education level: \")\n",
    "\n",
    "    if choice == \"1\":\n",
    "        return \"Diploma\"\n",
    "    elif choice == \"2\":\n",
    "        return \"Undergraduate\"\n",
    "    elif choice == \"3\":\n",
    "        return \"Bachelor\"\n",
    "    else:\n",
    "        print(\"Invalid input. Assuming Undergraduate.\")\n",
    "        return \"Undergraduate\""
   ]
  },
  {
   "cell_type": "code",
   "execution_count": 19,
   "id": "48d72f2c",
   "metadata": {},
   "outputs": [],
   "source": [
    "def Recommended(skills , education_level):\n",
    "    \n",
    "    skill_percentages = {}\n",
    "    for career, skills_list in careers.items():\n",
    "        matching_skills = filter(lambda skill: skill in skills, skills_list)\n",
    "        skill_percentages[career] = len(list(matching_skills)) / len(skills_list) * 100\n",
    "\n",
    "    \n",
    "    top_2_recommendations = sorted(skill_percentages, key=skill_percentages.get, reverse=True)[:2]\n",
    "    print(\"Top 2 recommendations:\")\n",
    "    for career in top_2_recommendations:\n",
    "        print(f\"{career}: {skill_percentages[career]:.2f}%\")\n",
    "        print(f\"Academic Major: {academic_majors.get(career, 'Unknown')}\")\n",
    "    print(f\"Education Level: {education_level}\")\n",
    "\n",
    "    return top_2_recommendations, skill_percentages, academic_majors\n"
   ]
  },
  {
   "cell_type": "code",
   "execution_count": 20,
   "id": "caa25a24",
   "metadata": {},
   "outputs": [
    {
     "name": "stdout",
     "output_type": "stream",
     "text": [
      "What skills do you have? Python , java\n",
      "Education Levels:\n",
      "1. Diploma \n",
      "2. Undergraduate\n",
      "3. Bachelor\n",
      "Enter the number corresponding to your education level: 3\n",
      "Top 2 recommendations:\n",
      "Data Scientist: 25.00%\n",
      "Academic Major: Data Science, Statistics, Computer Science, or related field\n",
      "Software Engineer: 20.00%\n",
      "Academic Major: Computer Science, Software Engineering, or related field\n",
      "Education Level: Bachelor\n",
      "Do you want to see specialized certificates for any of the above careers? (yes/no): yes\n",
      "Enter the number of the career you want to explore: 1\n",
      "Specialized certificates for Data Scientist:\n",
      " - Data Science Professional Certificate\n",
      " - Machine Learning Specialist Certificate\n"
     ]
    }
   ],
   "source": [
    "skills = input(\"What skills do you have? \").split()\n",
    "education_level = Education_level()\n",
    "top_2_recommendations, skill_percentages, academic_majors = Recommended(skills, education_level)\n",
    "choice = input(\"Do you want to see specialized certificates for any of the above careers? (yes/no): \").lower()\n",
    "\n",
    "if choice == \"yes\":\n",
    "    selected_career_index = int(input(\"Enter the number of the career you want to explore: \"))\n",
    "    if selected_career_index in [1, 2]: \n",
    "        selected_career = top_2_recommendations[selected_career_index - 1]\n",
    "        certificates = specialized_certificates.get(selected_career, [])\n",
    "        if certificates:\n",
    "            print(f\"Specialized certificates for {selected_career}:\")\n",
    "            for certificate in certificates:\n",
    "                print(f\" - {certificate}\")\n",
    "        else:\n",
    "            print(\"No specialized certificates found for this career.\")\n",
    "    else:\n",
    "        print(\"Invalid option. No specialized certificates will be shown.\")\n"
   ]
  }
 ],
 "metadata": {
  "kernelspec": {
   "display_name": "Python 3 (ipykernel)",
   "language": "python",
   "name": "python3"
  },
  "language_info": {
   "codemirror_mode": {
    "name": "ipython",
    "version": 3
   },
   "file_extension": ".py",
   "mimetype": "text/x-python",
   "name": "python",
   "nbconvert_exporter": "python",
   "pygments_lexer": "ipython3",
   "version": "3.11.3"
  }
 },
 "nbformat": 4,
 "nbformat_minor": 5
}
